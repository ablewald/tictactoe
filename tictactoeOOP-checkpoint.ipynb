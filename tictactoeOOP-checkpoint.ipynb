{
 "cells": [
  {
   "cell_type": "code",
   "execution_count": 17,
   "metadata": {},
   "outputs": [],
   "source": [
    "from IPython.display import clear_output\n",
    "\n",
    "class tictactoe:\n",
    "    \n",
    "    def __init__(self):\n",
    "        None\n",
    "        \n",
    "    def printBoard(self, board):\n",
    "        print(f\" {board[6]}  | {board[7]} | {board[8]} \")\n",
    "        print(\"____________\")\n",
    "        print(\"\")\n",
    "        print(f\" {board[3]}  | {board[4]} | {board[5]} \")\n",
    "        print(\"____________\")\n",
    "        print(\"\")\n",
    "        print(f\" {board[0]}  | {board[1]} | {board[2]} \")\n",
    "        \n",
    "    def selectSpace(self, board, position, player):\n",
    "        # checks if space has been taken\n",
    "        if player == 1:\n",
    "            board[position] = \"X\"\n",
    "        else:\n",
    "            board[position] = \"O\"\n",
    "        clear_output()\n",
    "        return board\n",
    "    \n",
    "    def checkForGame(self, board):\n",
    "        if board[0] == board[1] == board[2] == \"X\" or \\\n",
    "            board[3] == board[4] == board[5] == \"X\" or \\\n",
    "            board[6] == board[7] == board[8] == \"X\" or \\\n",
    "            board[0] == board[3] == board[6] == \"X\" or \\\n",
    "            board[1] == board[4] == board[7] == \"X\" or \\\n",
    "            board[2] == board[5] == board[8] == \"X\" or \\\n",
    "            board[0] == board[4] == board[8] == \"X\" or \\\n",
    "            board[2] == board[4] == board[6] == \"X\":\n",
    "            self.printBoard(board)\n",
    "            print(\" \")\n",
    "            print(\"Player X wins!\")\n",
    "            return True\n",
    "        if board[0] == board[1] == board[2] == \"O\" or \\\n",
    "            board[3] == board[4] == board[5] == \"O\" or \\\n",
    "            board[6] == board[7] == board[8] == \"O\" or \\\n",
    "            board[0] == board[3] == board[6] == \"O\" or \\\n",
    "            board[1] == board[4] == board[7] == \"O\" or \\\n",
    "            board[2] == board[5] == board[8] == \"O\" or \\\n",
    "            board[0] == board[4] == board[8] == \"O\" or \\\n",
    "            board[2] == board[4] == board[6] == \"O\":\n",
    "            self.printBoard(board)\n",
    "            print(\" \")\n",
    "            print(\"Player O wins!\")\n",
    "            return True\n",
    "        if \" \" not in board:\n",
    "            self.printBoard(board)\n",
    "            print(\" \")\n",
    "            print(\"Game ends in a draw\")\n",
    "            return True\n",
    "        return False\n",
    "    \n",
    "    def runGame(self):\n",
    "        board = [\" \"]*9\n",
    "        player = 1\n",
    "        main = True\n",
    "        while main:\n",
    "            self.printBoard(board)\n",
    "            holder = True\n",
    "            while holder:\n",
    "                move = int(input(\"Where do you want to go? (use 1-9)\"))\n",
    "                if (1<= move <= 9) and board[move-1] == \" \":\n",
    "                    board = self.selectSpace(board, move-1, player)\n",
    "                    player = (player + 1) % 2\n",
    "                    holder = False\n",
    "                else:\n",
    "                    clear_output()\n",
    "                    self.printBoard(board)\n",
    "                    print(\"Please make a valid move.\")\n",
    "            if (self.checkForGame(board)):\n",
    "                main = False"
   ]
  },
  {
   "cell_type": "code",
   "execution_count": 18,
   "metadata": {},
   "outputs": [],
   "source": [
    "game = tictactoe()"
   ]
  },
  {
   "cell_type": "code",
   "execution_count": 19,
   "metadata": {},
   "outputs": [
    {
     "name": "stdout",
     "output_type": "stream",
     "text": [
      "    | O |   \n",
      "____________\n",
      "\n",
      " X  | O |   \n",
      "____________\n",
      "\n",
      " X  | O | X \n",
      " \n",
      "Player O wins!\n"
     ]
    }
   ],
   "source": [
    "game.runGame()"
   ]
  },
  {
   "cell_type": "code",
   "execution_count": null,
   "metadata": {},
   "outputs": [],
   "source": []
  }
 ],
 "metadata": {
  "kernelspec": {
   "display_name": "Python 3",
   "language": "python",
   "name": "python3"
  },
  "language_info": {
   "codemirror_mode": {
    "name": "ipython",
    "version": 3
   },
   "file_extension": ".py",
   "mimetype": "text/x-python",
   "name": "python",
   "nbconvert_exporter": "python",
   "pygments_lexer": "ipython3",
   "version": "3.7.1"
  }
 },
 "nbformat": 4,
 "nbformat_minor": 2
}
